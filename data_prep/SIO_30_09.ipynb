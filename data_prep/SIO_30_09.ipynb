{
 "cells": [
  {
   "cell_type": "code",
   "execution_count": 1,
   "metadata": {},
   "outputs": [
    {
     "name": "stdout",
     "output_type": "stream",
     "text": [
      "Filename: ../docs/SIO 30.09.2022.csv\n"
     ]
    },
    {
     "ename": "ImportError",
     "evalue": "cannot import name 'Convert' from 'ConvertXmlToDf' (/Users/wnuczek/Developer/Kutno_HackSQL/data_prep/ConvertXmlToDf.py)",
     "output_type": "error",
     "traceback": [
      "\u001b[0;31m---------------------------------------------------------------------------\u001b[0m",
      "\u001b[0;31mImportError\u001b[0m                               Traceback (most recent call last)",
      "\u001b[1;32m/Users/wnuczek/Developer/Kutno_HackSQL/data_prep/SIO_30_09.ipynb Cell 1\u001b[0m line \u001b[0;36m2\n\u001b[1;32m      <a href='vscode-notebook-cell:/Users/wnuczek/Developer/Kutno_HackSQL/data_prep/SIO_30_09.ipynb#W0sZmlsZQ%3D%3D?line=0'>1</a>\u001b[0m \u001b[39mimport\u001b[39;00m \u001b[39mos\u001b[39;00m\n\u001b[0;32m----> <a href='vscode-notebook-cell:/Users/wnuczek/Developer/Kutno_HackSQL/data_prep/SIO_30_09.ipynb#W0sZmlsZQ%3D%3D?line=1'>2</a>\u001b[0m \u001b[39mfrom\u001b[39;00m \u001b[39mConvertXmlToDf\u001b[39;00m \u001b[39mimport\u001b[39;00m Convert\n\u001b[1;32m      <a href='vscode-notebook-cell:/Users/wnuczek/Developer/Kutno_HackSQL/data_prep/SIO_30_09.ipynb#W0sZmlsZQ%3D%3D?line=3'>4</a>\u001b[0m fileName \u001b[39m=\u001b[39m os\u001b[39m.\u001b[39mpath\u001b[39m.\u001b[39mjoin(\u001b[39m'\u001b[39m\u001b[39m..\u001b[39m\u001b[39m'\u001b[39m, \u001b[39m'\u001b[39m\u001b[39mdocs\u001b[39m\u001b[39m'\u001b[39m, \u001b[39m'\u001b[39m\u001b[39mSIO 30.09.2022.xml\u001b[39m\u001b[39m'\u001b[39m)\n\u001b[1;32m      <a href='vscode-notebook-cell:/Users/wnuczek/Developer/Kutno_HackSQL/data_prep/SIO_30_09.ipynb#W0sZmlsZQ%3D%3D?line=5'>6</a>\u001b[0m \u001b[39m# Define the worksheet name\u001b[39;00m\n",
      "\u001b[0;31mImportError\u001b[0m: cannot import name 'Convert' from 'ConvertXmlToDf' (/Users/wnuczek/Developer/Kutno_HackSQL/data_prep/ConvertXmlToDf.py)"
     ]
    }
   ],
   "source": [
    "import os\n",
    "from ConvertXmlToDf import ConvertXmlToDf\n",
    "\n",
    "fileName = os.path.join('..', 'docs', 'SIO 30.09.2022.xml')\n",
    "\n",
    "# Define the worksheet name\n",
    "sheetName = 'Szkoły i placówki'  \n",
    "\n",
    "df = ConvertXmlToDf(fileName, sheetName)\n",
    "\n",
    "df.columns = df.iloc[5]\n",
    "df = df[6:]\n",
    "df.to_excel('SIO 30.09.2022.xlsx')"
   ]
  },
  {
   "cell_type": "code",
   "execution_count": null,
   "metadata": {},
   "outputs": [],
   "source": []
  }
 ],
 "metadata": {
  "kernelspec": {
   "display_name": "Python 3",
   "language": "python",
   "name": "python3"
  },
  "language_info": {
   "codemirror_mode": {
    "name": "ipython",
    "version": 3
   },
   "file_extension": ".py",
   "mimetype": "text/x-python",
   "name": "python",
   "nbconvert_exporter": "python",
   "pygments_lexer": "ipython3",
   "version": "3.10.10"
  },
  "orig_nbformat": 4
 },
 "nbformat": 4,
 "nbformat_minor": 2
}
