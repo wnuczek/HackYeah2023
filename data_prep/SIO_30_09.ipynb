{
 "cells": [
  {
   "cell_type": "code",
   "execution_count": 25,
   "metadata": {},
   "outputs": [],
   "source": [
    "import pandas as pd\n",
    "from lxml import etree\n",
    "import os\n",
    "from ConvertXmlToDf import Convert\n",
    "\n",
    "fileName = os.path.join('..', 'docs', 'SIO 30.09.2022.xml')\n",
    "\n",
    "# Define the worksheet name\n",
    "sheetName = 'Szkoły i placówki'  \n",
    "\n",
    "df = Convert(fileName, sheetName)\n",
    "\n",
    "df.columns = df.iloc[5]\n",
    "df = df[6:]\n",
    "df.to_excel('SIO 30.09.2022.xlsx')"
   ]
  }
 ],
 "metadata": {
  "kernelspec": {
   "display_name": "Python 3",
   "language": "python",
   "name": "python3"
  },
  "language_info": {
   "codemirror_mode": {
    "name": "ipython",
    "version": 3
   },
   "file_extension": ".py",
   "mimetype": "text/x-python",
   "name": "python",
   "nbconvert_exporter": "python",
   "pygments_lexer": "ipython3",
   "version": "3.11.4"
  },
  "orig_nbformat": 4
 },
 "nbformat": 4,
 "nbformat_minor": 2
}
